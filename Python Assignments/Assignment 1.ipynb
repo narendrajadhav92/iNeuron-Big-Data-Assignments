{
 "cells": [
  {
   "cell_type": "markdown",
   "metadata": {},
   "source": [
    "### Assignment\n",
    "**Q1. Why do we call Python as a general purpose and high-level programming language?**  \n",
    "Ans. According to the basic principle of coding, the factor that makes a language high level is its distance from machine binary code. How many layers of code the language is away from the machine's simple 0s and 1s is what practically decides the level of any programming language. In the software engineering world, Python is understood as a high-level, interpreted general-purpose language. This means it is not your straight compiled language (like Java or C) but an interpreted dynamic language that has to be run in the given system using another program instead of its local processor. When compiled, other languages turn into Assembly and run directly in the processor. Hence, being an interpreted language, which is not subject to the processor, makes Python a high-level programming language.\n",
    "\n",
    "**Q2. Why is Python called a dynamically typed language?**  \n",
    "Ans. Python is dynamically typed, this means that you don’t need to state the types of variables when you declare them or anything like that. You can do things like a = 45 and then x=\"Sample String\" without error\n",
    "\n",
    "**Q3. List some pros and cons of Python programming language?**  \n",
    "Ans.\n",
    "- *Pros* :  Python is free, open-source,Smooth learning curve, High speed of development, Portability and extensibility to other languages, Versatility plus extensive toolset for almost everything like Deep learning , AI, Scientific programming and data science.\n",
    "- *Cons* : Speed limitations, No multithreading, High memory consumption, Hassles with mobile and front-end development, Garbage collection leads to potential memory losses,Slower than compiled languages.\n",
    "\n",
    "**Q4. In what all domains can we use Python?**  \n",
    "Ans. \n",
    "- Machine learning / Artificial intelligence\n",
    "- Desktop GUI\n",
    "- Data analytics and data visualization \n",
    "- Web development\n",
    "- Game development\n",
    "- Mobile app development\n",
    "- Embedded systems\n",
    "\n",
    "**Q5. What are variable and how can we declare them?**  \n",
    "Ans.  Variables are containers for storing data values. A variable is created the moment you first assign a value to it.  \n",
    "```python\n",
    "a = 'Sam'\n",
    "b = 65\n",
    "c = True\n",
    "```  \n",
    "**Q6. How can we take an input from the user in Python?**"
   ]
  },
  {
   "cell_type": "code",
   "execution_count": 1,
   "metadata": {},
   "outputs": [
    {
     "name": "stdout",
     "output_type": "stream",
     "text": [
      "Enter Your Name: Samantha karan singh\n",
      "Name : Samantha karan singh\n"
     ]
    }
   ],
   "source": [
    "# Input Method is used for taking input from user\n",
    "s = input('Enter Your Name: ')\n",
    "print('Name :',s)"
   ]
  },
  {
   "cell_type": "markdown",
   "metadata": {},
   "source": [
    "**Q7. What is the default datatype of the value that has been taken as an input using input() function?**  \n",
    "Ans. Input function takes only string as input. Later we can type cast it into another type.  \n",
    "\n",
    "**Q8. What is type casting?**  \n",
    "Ans. Type Casting is the method to convert the variable data type into a certain data type in order to the operation required to be performed by users.  \n",
    "\n",
    "**Q9. Can we take more than one input from the user using single input() function? If yes, how? If no, why?**  \n",
    "Ans. We can not take more inputs from single input(). we can split that result into many variables "
   ]
  },
  {
   "cell_type": "code",
   "execution_count": 2,
   "metadata": {},
   "outputs": [
    {
     "name": "stdout",
     "output_type": "stream",
     "text": [
      "Enter Full Name: Samantha karan singh\n",
      "Your First Name:  Samantha\n",
      "Your Middle Name:  karan\n",
      "Your Last Name:  singh\n"
     ]
    }
   ],
   "source": [
    "# taking three inputs at a time  \n",
    "a, b, c = input(\"Enter Full Name: \").split()  \n",
    "print(\"Your First Name: \", a)  \n",
    "print(\"Your Middle Name: \", b)  \n",
    "print(\"Your Last Name: \", c)"
   ]
  },
  {
   "cell_type": "markdown",
   "metadata": {},
   "source": [
    "**Q10. What are keywords?**  \n",
    "Ans. Keywords are reserved words in Python that are used to trigger specific tasks. We cannot use a keyword as a variable name, function name, or any other identifier since these keywords each hold a special meaning. All of the keywords in Python are lowercase.  \n",
    "Ex: print, while, continue, break, if, not, and, return, global, del, pass  \n",
    "\n",
    "**Q11. Can we use keywords as a variable? Support your answer with reason.**  \n",
    "Ans. We can not use keywords as a variable. We will get SyntaxError if used.  \n",
    "\n",
    "**Q12. What is indentation? What's the use of indentaion in Python?**  \n",
    "Ans. Indentation in Python is simply the spaces at the beginning of a code line. Indentation in other languages like C, C++, etc., is just for readability, but in Python, the indentation is an essential and mandatory concept that should be followed when writing a python code; otherwise, the python interpreter throws IndentationError.  \n",
    "\n",
    "**Q13. How can we throw some output in Python?**  \n",
    "Ans. Display output to the console with the built-in function print()."
   ]
  },
  {
   "cell_type": "code",
   "execution_count": 3,
   "metadata": {},
   "outputs": [
    {
     "name": "stdout",
     "output_type": "stream",
     "text": [
      "Lenovo\n"
     ]
    }
   ],
   "source": [
    "print('Lenovo')"
   ]
  },
  {
   "cell_type": "markdown",
   "metadata": {},
   "source": [
    "**Q14. What are operators in Python?**  \n",
    "Ans. In Python, operators are special symbols that designate that some sort of computation should be performed.  \n",
    "\n",
    "**Q15. What is difference between / and // operators?**  \n",
    "Ans. The result of standard division (/) is always a float, even if the dividend is evenly divisible by the divisor:"
   ]
  },
  {
   "cell_type": "code",
   "execution_count": 4,
   "metadata": {},
   "outputs": [
    {
     "data": {
      "text/plain": [
       "20.0"
      ]
     },
     "execution_count": 4,
     "metadata": {},
     "output_type": "execute_result"
    }
   ],
   "source": [
    "100/5"
   ]
  },
  {
   "cell_type": "markdown",
   "metadata": {},
   "source": [
    "When the result of floor division (//) is positive, it is as though the fractional portion is truncated off, leaving only the integer portion. When the result is negative, the result is rounded down to the next smallest (greater negative) integer:"
   ]
  },
  {
   "cell_type": "code",
   "execution_count": 5,
   "metadata": {},
   "outputs": [
    {
     "data": {
      "text/plain": [
       "2"
      ]
     },
     "execution_count": 5,
     "metadata": {},
     "output_type": "execute_result"
    }
   ],
   "source": [
    "10//4"
   ]
  },
  {
   "cell_type": "code",
   "execution_count": 6,
   "metadata": {},
   "outputs": [
    {
     "data": {
      "text/plain": [
       "-3"
      ]
     },
     "execution_count": 6,
     "metadata": {},
     "output_type": "execute_result"
    }
   ],
   "source": [
    "10//-4"
   ]
  },
  {
   "cell_type": "markdown",
   "metadata": {},
   "source": [
    "**Q16. Write a code that gives following as an output.**\n",
    "```\n",
    "iNeuroniNeuroniNeuroniNeuron\n",
    "```"
   ]
  },
  {
   "cell_type": "code",
   "execution_count": 7,
   "metadata": {},
   "outputs": [
    {
     "name": "stdout",
     "output_type": "stream",
     "text": [
      "iNeuroniNeuroniNeuroniNeuron\n"
     ]
    }
   ],
   "source": [
    "print('iNeuron'*4)"
   ]
  },
  {
   "cell_type": "markdown",
   "metadata": {},
   "source": [
    "**Q17. Write a code to take a number as an input from the user and check if the number is odd or even.**"
   ]
  },
  {
   "cell_type": "code",
   "execution_count": 8,
   "metadata": {},
   "outputs": [
    {
     "name": "stdout",
     "output_type": "stream",
     "text": [
      "Enter Number:546\n",
      "This is Even Number\n"
     ]
    }
   ],
   "source": [
    "a = int(input('Enter Number:'))\n",
    "if a %2 ==0:\n",
    "    print('This is Even Number')\n",
    "else :\n",
    "    print('This is Odd Number')"
   ]
  },
  {
   "cell_type": "markdown",
   "metadata": {},
   "source": [
    "**Q18. What are boolean operator?**  \n",
    "Ans. Boolean Operators are those that result in the Boolean values of True and False. These include and, or and not. While and & or require 2 operands, not is a unary operator. Boolean operators are most commonly used in arithmetic computations and logical comparisons.  \n",
    "\n",
    "**Q19. What will the output of the following?**"
   ]
  },
  {
   "cell_type": "code",
   "execution_count": 9,
   "metadata": {},
   "outputs": [
    {
     "data": {
      "text/plain": [
       "1"
      ]
     },
     "execution_count": 9,
     "metadata": {},
     "output_type": "execute_result"
    }
   ],
   "source": [
    "1 or  0"
   ]
  },
  {
   "cell_type": "code",
   "execution_count": 10,
   "metadata": {},
   "outputs": [
    {
     "data": {
      "text/plain": [
       "0"
      ]
     },
     "execution_count": 10,
     "metadata": {},
     "output_type": "execute_result"
    }
   ],
   "source": [
    "0 or 0"
   ]
  },
  {
   "cell_type": "code",
   "execution_count": 11,
   "metadata": {},
   "outputs": [
    {
     "data": {
      "text/plain": [
       "False"
      ]
     },
     "execution_count": 11,
     "metadata": {},
     "output_type": "execute_result"
    }
   ],
   "source": [
    "True and False and True"
   ]
  },
  {
   "cell_type": "code",
   "execution_count": 12,
   "metadata": {},
   "outputs": [
    {
     "data": {
      "text/plain": [
       "1"
      ]
     },
     "execution_count": 12,
     "metadata": {},
     "output_type": "execute_result"
    }
   ],
   "source": [
    "1 or 0 or 0"
   ]
  },
  {
   "cell_type": "markdown",
   "metadata": {},
   "source": [
    "**Q20. What are conditional statements in Python?**  \n",
    "Ans. Python has 3 key Conditional Statements:\n",
    "\n",
    "- if statement\n",
    "- if-else statement\n",
    "- if-elif-else ladder  \n",
    "\n",
    "**Q21. What is use of 'if', 'elif' and 'else' keywords?**  \n",
    "Ans. The elif statement is used to check for multiple conditions and execute the code block within if any of the conditions evaluate to be true.\n",
    "The elif statement is similar to the else statement in the context that it is optional but unlike the else statement, there can be multiple elif statements in a code block following an if statement.  \n",
    "\n",
    "**Q22. Write a code to take the age of person as an input and if age >= 18 display \"I can vote\". If age is < 18 display \"I can't vote\".**"
   ]
  },
  {
   "cell_type": "code",
   "execution_count": 13,
   "metadata": {},
   "outputs": [
    {
     "name": "stdout",
     "output_type": "stream",
     "text": [
      "Enter Your Age:15\n",
      "!! You can not vote\n"
     ]
    }
   ],
   "source": [
    "age = int(input('Enter Your Age:'))\n",
    "if age >= 18 :\n",
    "    print('You can vote.')\n",
    "else:\n",
    "    print('!! You can not vote')"
   ]
  },
  {
   "cell_type": "markdown",
   "metadata": {},
   "source": [
    "**Q23. Write a code that displays the sum of all the even numbers from the given list.**\n",
    "```\n",
    "numbers = [12, 75, 150, 180, 145, 525, 50]\n",
    "```"
   ]
  },
  {
   "cell_type": "code",
   "execution_count": 14,
   "metadata": {},
   "outputs": [
    {
     "name": "stdout",
     "output_type": "stream",
     "text": [
      "sum of even number is  392\n"
     ]
    }
   ],
   "source": [
    "numbers = [12, 75, 150, 180, 145, 525, 50]\n",
    "sum = 0\n",
    "for i in numbers:\n",
    "    if i %2 ==0:\n",
    "        sum += i\n",
    "print('sum of even number is ', sum)"
   ]
  },
  {
   "cell_type": "markdown",
   "metadata": {},
   "source": [
    "**Q24. Write a code to take 3 numbers as an input from the user and display the greatest no as output.**\n"
   ]
  },
  {
   "cell_type": "code",
   "execution_count": 15,
   "metadata": {},
   "outputs": [
    {
     "name": "stdout",
     "output_type": "stream",
     "text": [
      "Enter First number :56\n",
      "Enter Second number :84\n",
      "Enter Third number :1\n",
      "greatest no = 84\n"
     ]
    }
   ],
   "source": [
    "a = int(input('Enter First number :'))\n",
    "b = int(input('Enter Second number :'))\n",
    "c = int(input('Enter Third number :'))\n",
    "\n",
    "if a > b:\n",
    "    if a > c:\n",
    "        print('greatest no =' , a)\n",
    "    else:\n",
    "        print('greatest no =' , c)\n",
    "else :\n",
    "    if b > c:\n",
    "        print('greatest no =' , b)\n",
    "    else:\n",
    "        print('Greatest no =' , c)"
   ]
  },
  {
   "cell_type": "markdown",
   "metadata": {},
   "source": [
    "**Q25. Write a program to display only those numbers from a list that satisfy the following conditions**\n",
    "\n",
    "- The number must be divisible by five\n",
    "\n",
    "- If the number is greater than 150, then skip it and move to the next number\n",
    "\n",
    "- If the number is greater than 500, then stop the loop\n",
    "```\n",
    "numbers = [12, 75, 150, 180, 145, 525, 50]\n",
    "```"
   ]
  },
  {
   "cell_type": "code",
   "execution_count": 16,
   "metadata": {},
   "outputs": [
    {
     "name": "stdout",
     "output_type": "stream",
     "text": [
      "75\n",
      "150\n",
      "145\n"
     ]
    }
   ],
   "source": [
    "numbers = [12, 75, 150, 180, 145, 525, 50]\n",
    "for i in numbers:\n",
    "    \n",
    "    if i >500:    \n",
    "        break\n",
    "    if i >150:\n",
    "        continue\n",
    "    if i %5 ==0:\n",
    "            print(i)"
   ]
  },
  {
   "cell_type": "code",
   "execution_count": null,
   "metadata": {},
   "outputs": [],
   "source": []
  }
 ],
 "metadata": {
  "kernelspec": {
   "display_name": "Python 3 (ipykernel)",
   "language": "python",
   "name": "python3"
  },
  "language_info": {
   "codemirror_mode": {
    "name": "ipython",
    "version": 3
   },
   "file_extension": ".py",
   "mimetype": "text/x-python",
   "name": "python",
   "nbconvert_exporter": "python",
   "pygments_lexer": "ipython3",
   "version": "3.9.13"
  },
  "vscode": {
   "interpreter": {
    "hash": "ad2bdc8ecc057115af97d19610ffacc2b4e99fae6737bb82f5d7fb13d2f2c186"
   }
  }
 },
 "nbformat": 4,
 "nbformat_minor": 2
}
